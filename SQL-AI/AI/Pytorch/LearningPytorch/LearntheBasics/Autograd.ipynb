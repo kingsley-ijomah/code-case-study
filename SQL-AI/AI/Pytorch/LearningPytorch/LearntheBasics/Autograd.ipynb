{
 "metadata": {
  "language_info": {
   "codemirror_mode": {
    "name": "ipython",
    "version": 3
   },
   "file_extension": ".py",
   "mimetype": "text/x-python",
   "name": "python",
   "nbconvert_exporter": "python",
   "pygments_lexer": "ipython3",
   "version": "3.8.1-final"
  },
  "orig_nbformat": 2,
  "kernelspec": {
   "name": "python3",
   "display_name": "Python 3.8.1 64-bit ('3.8.1')",
   "metadata": {
    "interpreter": {
     "hash": "214c9efe10e6a63b54e870d65f8a66d5ee44cb5c045bbf0f4c73f363acbc512f"
    }
   }
  }
 },
 "nbformat": 4,
 "nbformat_minor": 2,
 "cells": [
  {
   "source": [
    "# AUTOMATIC DIFFERENTIATION WITH TORCH.AUTOGRAD\n",
    "When training neural networks, the most frequently used algorithm is back propagation. In this algorithm, parameters (model weights) are adjusted according to the gradient of the loss function with respect to the given parameter.\n",
    "\n",
    "To compute those gradients, PyTorch has a built-in differentiation engine called torch.autograd. It supports automatic computation of gradient for any computational graph.\n",
    "\n",
    "Consider the simplest one-layer neural network, with input x, parameters w and b, and some loss function. It can be defined in PyTorch in the following manner:"
   ],
   "cell_type": "markdown",
   "metadata": {}
  },
  {
   "cell_type": "code",
   "execution_count": 1,
   "metadata": {},
   "outputs": [],
   "source": [
    "import torch\n",
    "\n",
    "x = torch.ones(5)  # input tensor\n",
    "y = torch.zeros(3)  # expected output\n",
    "w = torch.randn(5, 3, requires_grad=True)\n",
    "b = torch.randn(3, requires_grad=True)\n",
    "z = torch.matmul(x, w)+b\n",
    "loss = torch.nn.functional.binary_cross_entropy_with_logits(z, y)"
   ]
  },
  {
   "source": [
    "## Tensors, Functions and Computational graph\n",
    "This code defines the following **computational graph**:\n",
    "\n",
    "![alt text](./files/autograd_1.png \"title\")\n",
    "\n",
    "\n",
    "In this network, w and b are **parameters**, which we need to optimize. Thus, we need to be able to compute the gradients of loss function with respect to those variables. In orded to do that, we set the requires_grad property of those tensors.\n",
    "\n",
    "`NOTE: You can set the value of requires_grad when creating a tensor, or later by using x.requires_grad_(True) method.`\n",
    "\n",
    "A function that we apply to tensors to construct computational graph is in fact an object of class Function. This object knows how to compute the function in the forward direction, and also how to compute it’s derivative during the backward propagation step. A reference to the backward propagation function is stored in grad_fn property of a tensor. You can find more information of Function in the documentation."
   ],
   "cell_type": "markdown",
   "metadata": {}
  },
  {
   "cell_type": "code",
   "execution_count": 2,
   "metadata": {},
   "outputs": [
    {
     "output_type": "stream",
     "name": "stdout",
     "text": [
      "Gradient function for z = <AddBackward0 object at 0x124aecd00>\nGradient function for loss = <BinaryCrossEntropyWithLogitsBackward object at 0x124aec8e0>\n"
     ]
    }
   ],
   "source": [
    "print('Gradient function for z =',z.grad_fn)\n",
    "print('Gradient function for loss =', loss.grad_fn)"
   ]
  },
  {
   "source": [
    "## Computing Gradients\n",
    "\n",
    "To optimize weights of parameters in the neural network, we need to compute the derivatives of our loss function with respect to parameters, namely, we need $\\frac{\\partial loss} {\\partial w}$ and $\\frac{\\partial loss} {\\partial b}$ under some fixed values of x and y. To compute those derivatives, we call loss.backward(), and then retrieve the values from w.grad and b.grad:"
   ],
   "cell_type": "markdown",
   "metadata": {}
  },
  {
   "cell_type": "code",
   "execution_count": 3,
   "metadata": {},
   "outputs": [
    {
     "output_type": "stream",
     "name": "stdout",
     "text": [
      "tensor([[0.2515, 0.1450, 0.2363],\n        [0.2515, 0.1450, 0.2363],\n        [0.2515, 0.1450, 0.2363],\n        [0.2515, 0.1450, 0.2363],\n        [0.2515, 0.1450, 0.2363]])\ntensor([0.2515, 0.1450, 0.2363])\n"
     ]
    }
   ],
   "source": [
    "loss.backward()\n",
    "print(w.grad)\n",
    "print(b.grad)"
   ]
  },
  {
   "source": [
    "`\n",
    "NOTE:\n",
    "We can only obtain the grad properties for the leaf nodes of the computational graph, which have requires_grad property set to True. For all other nodes in our graph, gradients will not be available.\n",
    "We can only perform gradient calculations using backward once on a given graph, for performance reasons. If we need to do several backward calls on the same graph, we need to pass retain_graph=True to the backward call.\n",
    "`"
   ],
   "cell_type": "markdown",
   "metadata": {}
  },
  {
   "source": [
    "## Disabling Gradient Tracking\n",
    "\n",
    "By default, all tensors with requires_grad=True are tracking their computational history and support gradient computation. However, there are some cases when we do not need to do that, for example, when we have trained the model and just want to apply it to some input data, i.e. we only want to do forward computations through the network. We can stop tracking computations by surrounding our computation code with torch.no_grad() block:"
   ],
   "cell_type": "markdown",
   "metadata": {}
  },
  {
   "cell_type": "code",
   "execution_count": 4,
   "metadata": {},
   "outputs": [
    {
     "output_type": "stream",
     "name": "stdout",
     "text": [
      "True\nFalse\n"
     ]
    }
   ],
   "source": [
    "z = torch.matmul(x, w)+b\n",
    "print(z.requires_grad)\n",
    "\n",
    "with torch.no_grad():\n",
    "    z = torch.matmul(x, w)+b\n",
    "print(z.requires_grad)"
   ]
  },
  {
   "source": [
    "Another way to achieve the same result is to use the detach() method on the tensor:"
   ],
   "cell_type": "markdown",
   "metadata": {}
  },
  {
   "cell_type": "code",
   "execution_count": 5,
   "metadata": {},
   "outputs": [
    {
     "output_type": "stream",
     "name": "stdout",
     "text": [
      "False\n"
     ]
    }
   ],
   "source": [
    "z_det = z.detach()\n",
    "print(z_det.requires_grad)"
   ]
  },
  {
   "source": [
    "There are reasons you might want to disable gradient tracking:\n",
    "- To mark some parameters in your neural network at **frozen parameters**. This is a very common scenario for `finetuning a pretrained network`\n",
    "- To `speed up computations` when you are only doing forward pass, because computations on tensors that do not track gradients would be more efficient."
   ],
   "cell_type": "markdown",
   "metadata": {}
  },
  {
   "source": [
    "## More on Computational Graphs\n",
    "Conceptually, autograd keeps a record of data (tensors) and all executed operations (along with the resulting new tensors) in a directed acyclic graph (DAG) consisting of `Function` objects. In this DAG, leaves are the input tensors, roots are the output tensors. By tracing this graph from roots to leaves, you can automatically compute the gradients using the chain rule.\n",
    "\n",
    "In a forward pass, autograd does two things simultaneously:\n",
    "\n",
    "- run the requested operation to compute a resulting tensor\n",
    "- maintain the operation’s gradient function in the DAG.\n",
    "\n",
    "The backward pass kicks off when *.backward()* is called on the DAG root. *autograd* then:\n",
    "\n",
    "- computes the gradients from each *.grad_fn*,\n",
    "- accumulates them in the respective tensor’s *.grad* attribute\n",
    "- using the chain rule, propagates all the way to the leaf tensors.\n",
    "\n",
    "\n",
    "NOTE:\n",
    "**DAGs are dynamic in PyTorch** An important thing to note is that the graph is recreated from scratch; after each *.backward()* call, autograd starts populating a new graph. This is exactly what allows you to use control flow statements in your model; you can change the shape, size and operations at every iteration if needed.\n"
   ],
   "cell_type": "markdown",
   "metadata": {}
  }
 ]
}