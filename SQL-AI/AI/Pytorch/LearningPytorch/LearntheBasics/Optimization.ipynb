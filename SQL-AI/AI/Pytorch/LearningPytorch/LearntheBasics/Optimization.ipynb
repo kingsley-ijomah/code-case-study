{
 "metadata": {
  "language_info": {
   "codemirror_mode": {
    "name": "ipython",
    "version": 3
   },
   "file_extension": ".py",
   "mimetype": "text/x-python",
   "name": "python",
   "nbconvert_exporter": "python",
   "pygments_lexer": "ipython3",
   "version": "3.8.1-final"
  },
  "orig_nbformat": 2,
  "kernelspec": {
   "name": "python3",
   "display_name": "Python 3.8.1 64-bit ('3.8.1')",
   "metadata": {
    "interpreter": {
     "hash": "214c9efe10e6a63b54e870d65f8a66d5ee44cb5c045bbf0f4c73f363acbc512f"
    }
   }
  }
 },
 "nbformat": 4,
 "nbformat_minor": 2,
 "cells": [
  {
   "source": [
    "# OPTIMIZING MODEL PARAMETERS\n",
    "\n",
    "Now that we have a model and data it’s time to train, validate and test our model by optimizing it’s parameters on our data. Training a model is an iterative process; in each iteration (called an epoch) the model makes a guess about the output, calculates the error in its guess (loss), collects the derivatives of the error with respect to its parameters (as we saw in the previous section), and **optimizes** these parameters using gradient descent. For a more detailed walkthrough of this process, check out this video on [backpropagation from 3Blue1Brown](https://www.youtube.com/watch?v=tIeHLnjs5U8)."
   ],
   "cell_type": "markdown",
   "metadata": {}
  },
  {
   "source": [
    "## Pre-requisite Code\n",
    "\n",
    "We load the code from the previous sections on Datasets & DataLoaders and Build Model."
   ],
   "cell_type": "markdown",
   "metadata": {}
  },
  {
   "cell_type": "code",
   "execution_count": 1,
   "metadata": {},
   "outputs": [],
   "source": [
    "import torch\n",
    "from torch import nn\n",
    "from torch.utils.data import DataLoader\n",
    "from torchvision import datasets\n",
    "from torchvision.transforms import ToTensor, Lambda\n",
    "\n",
    "training_data = datasets.FashionMNIST(\n",
    "    root=\"data\",\n",
    "    train=True,\n",
    "    download=True,\n",
    "    transform=ToTensor()\n",
    ")\n",
    "\n",
    "test_data = datasets.FashionMNIST(\n",
    "    root=\"data\",\n",
    "    train=False,\n",
    "    download=True,\n",
    "    transform=ToTensor()\n",
    ")\n",
    "\n",
    "train_dataloader = DataLoader(training_data, batch_size=64)\n",
    "test_dataloader = DataLoader(test_data, batch_size=64)\n",
    "\n",
    "class NeuralNetwork(nn.Module):\n",
    "    def __init__(self):\n",
    "        super(NeuralNetwork, self).__init__()\n",
    "        self.flatten = nn.Flatten()\n",
    "        self.linear_relu_stack = nn.Sequential(\n",
    "            nn.Linear(28*28, 512),\n",
    "            nn.ReLU(),\n",
    "            nn.Linear(512, 512),\n",
    "            nn.ReLU(),\n",
    "            nn.Linear(512, 10),\n",
    "            nn.ReLU()\n",
    "        )\n",
    "\n",
    "    def forward(self, x):\n",
    "        x = self.flatten(x)\n",
    "        logits = self.linear_relu_stack(x)\n",
    "        return logits\n",
    "\n",
    "model = NeuralNetwork()"
   ]
  },
  {
   "source": [
    "## Hyperparameters\n",
    "\n",
    "Hyperparameters are adjustable parameters that let you control the model optimization process. Different hyperparameter values can impact model training and convergence rates ([read more](https://pytorch.org/tutorials/beginner/hyperparameter_tuning_tutorial.html) about hyperparameter tuning)\n",
    "\n",
    "We define the following hyperparameters for training:\n",
    "- **Number of Epochs** - the number times to iterate over the dataset\n",
    "- **Batch Size** - the number of data samples seen by the model in each epoch\n",
    "- **Learning Rate** - how much to update models parameters at each batch/epoch. Smaller values yield slow learning speed, while large values may result in unpredictable behavior during training."
   ],
   "cell_type": "markdown",
   "metadata": {}
  },
  {
   "cell_type": "code",
   "execution_count": 2,
   "metadata": {},
   "outputs": [],
   "source": [
    "learning_rate = 1e-3\n",
    "batch_size = 64\n",
    "epochs = 5"
   ]
  },
  {
   "source": [
    "## Optimization Loop\n",
    "Once we set our hyperparameters, we can then train and optimize our model with an optimization loop. Each iteration of the optimization loop is called an **epoch**.\n",
    "\n",
    "Each epoch consists of two main parts:\n",
    "- **The Train Loop** - iterate over the training dataset and try to converge to optimal parameters.\n",
    "- **The Validation/Test Loop** - iterate over the test dataset to check if model performance is improving.\n",
    "\n",
    "Let’s briefly familiarize ourselves with some of the concepts used in the training loop. Jump ahead to see the Full Implementation of the optimization loop."
   ],
   "cell_type": "markdown",
   "metadata": {}
  },
  {
   "source": [
    "## Loss Function\n",
    "When presented with some training data, our untrained network is likely not to give the correct answer. Loss function measures the degree of dissimilarity of obtained result to the target value, and it is the loss function that we want to minimize during training. To calculate the loss we make a prediction using the inputs of our given data sample and compare it against the true data label value.\n",
    "\n",
    "Common loss functions include [nn.MSELoss](https://pytorch.org/docs/stable/generated/torch.nn.MSELoss.html#torch.nn.MSELoss) (Mean Square Error) for regression tasks, and [nn.NLLLoss](https://pytorch.org/docs/stable/generated/torch.nn.NLLLoss.html#torch.nn.NLLLoss) (Negative Log Likelihood) for classification. [nn.CrossEntropyLoss](https://pytorch.org/docs/stable/generated/torch.nn.CrossEntropyLoss.html#torch.nn.CrossEntropyLoss) combines nn.LogSoftmax and nn.NLLLoss.\n",
    "\n",
    "We pass our model’s output logits to *nn.CrossEntropyLoss*, which will normalize the logits and compute the prediction error."
   ],
   "cell_type": "markdown",
   "metadata": {}
  },
  {
   "cell_type": "code",
   "execution_count": 3,
   "metadata": {},
   "outputs": [],
   "source": [
    "# Initialize the loss function\n",
    "loss_fn = nn.CrossEntropyLoss()"
   ]
  },
  {
   "source": [
    "## Optimizer\n",
    "Optimization is the process of adjusting model parameters to reduce model error in each training step. **Optimization algorithms** define how this process is performed (in this example we use Stochastic Gradient Descent). All optimization logic is encapsulated in the optimizer object. Here, we use the SGD optimizer; additionally, there are many [different optimizers](https://pytorch.org/docs/stable/optim.html) available in PyTorch such as ADAM and RMSProp, that work better for different kinds of models and data.\n",
    "\n",
    "We initialize the optimizer by registering the model’s parameters that need to be trained, and passing in the learning rate hyperparameter."
   ],
   "cell_type": "markdown",
   "metadata": {}
  },
  {
   "cell_type": "code",
   "execution_count": 4,
   "metadata": {},
   "outputs": [],
   "source": [
    "optimizer = torch.optim.SGD(model.parameters(), lr=learning_rate)"
   ]
  },
  {
   "source": [
    "Inside the training loop, optimization happens in three steps:\n",
    "- Call *optimizer.zero_grad()* to reset the gradients of model parameters. Gradients by default add up; to prevent double-counting, we explicitly zero them at each iteration.\n",
    "- Backpropagate the prediction loss with a call to *loss.backwards()*. PyTorch deposits the gradients of the loss w.r.t. each parameter.\n",
    "- Once we have our gradients, we call *optimizer.step()* to adjust the parameters by the gradients collected in the backward pass."
   ],
   "cell_type": "markdown",
   "metadata": {}
  },
  {
   "source": [
    "## Full Implementation\n",
    "We define *train_loop* that loops over our optimization code, and *test_loop* that evaluates the model’s performance against our test data."
   ],
   "cell_type": "markdown",
   "metadata": {}
  },
  {
   "cell_type": "code",
   "execution_count": 5,
   "metadata": {},
   "outputs": [],
   "source": [
    "def train_loop(dataloader, model, loss_fn, optimizer):\n",
    "    size = len(dataloader.dataset)\n",
    "    for batch, (X, y) in enumerate(dataloader):\n",
    "        # Compute prediction and loss\n",
    "        pred = model(X)\n",
    "        loss = loss_fn(pred, y)\n",
    "\n",
    "        # Backpropagation\n",
    "        optimizer.zero_grad()\n",
    "        loss.backward()\n",
    "        optimizer.step()\n",
    "\n",
    "        if batch % 100 == 0:\n",
    "            loss, current = loss.item(), batch * len(X)\n",
    "            print(f\"loss: {loss:>7f}  [{current:>5d}/{size:>5d}]\")\n",
    "\n",
    "\n",
    "def test_loop(dataloader, model, loss_fn):\n",
    "    size = len(dataloader.dataset)\n",
    "    test_loss, correct = 0, 0\n",
    "\n",
    "    with torch.no_grad():\n",
    "        for X, y in dataloader:\n",
    "            pred = model(X)\n",
    "            test_loss += loss_fn(pred, y).item()\n",
    "            correct += (pred.argmax(1) == y).type(torch.float).sum().item()\n",
    "\n",
    "    test_loss /= size\n",
    "    correct /= size\n",
    "    print(f\"Test Error: \\n Accuracy: {(100*correct):>0.1f}%, Avg loss: {test_loss:>8f} \\n\")"
   ]
  },
  {
   "source": [
    "We initialize the loss function and optimizer, and pass it to train_loop and test_loop. Feel free to increase the number of epochs to track the model’s improving performance."
   ],
   "cell_type": "markdown",
   "metadata": {}
  },
  {
   "cell_type": "code",
   "execution_count": 6,
   "metadata": {},
   "outputs": [
    {
     "output_type": "stream",
     "name": "stdout",
     "text": [
      "Epoch 1\n",
      "-------------------------------\n",
      "loss: 2.297475  [    0/60000]\n",
      "loss: 2.293536  [ 6400/60000]\n",
      "loss: 2.291556  [12800/60000]\n",
      "loss: 2.297660  [19200/60000]\n",
      "loss: 2.266053  [25600/60000]\n",
      "loss: 2.278124  [32000/60000]\n",
      "loss: 2.277809  [38400/60000]\n",
      "loss: 2.268511  [44800/60000]\n",
      "loss: 2.273802  [51200/60000]\n",
      "loss: 2.273184  [57600/60000]\n",
      "Test Error: \n",
      " Accuracy: 27.1%, Avg loss: 0.035522 \n",
      "\n",
      "Epoch 2\n",
      "-------------------------------\n",
      "loss: 2.252760  [    0/60000]\n",
      "loss: 2.242734  [ 6400/60000]\n",
      "loss: 2.239711  [12800/60000]\n",
      "loss: 2.275179  [19200/60000]\n",
      "loss: 2.192383  [25600/60000]\n",
      "loss: 2.218733  [32000/60000]\n",
      "loss: 2.229223  [38400/60000]\n",
      "loss: 2.200032  [44800/60000]\n",
      "loss: 2.212793  [51200/60000]\n",
      "loss: 2.232950  [57600/60000]\n",
      "Test Error: \n",
      " Accuracy: 25.9%, Avg loss: 0.034565 \n",
      "\n",
      "Epoch 3\n",
      "-------------------------------\n",
      "loss: 2.166583  [    0/60000]\n",
      "loss: 2.154889  [ 6400/60000]\n",
      "loss: 2.148426  [12800/60000]\n",
      "loss: 2.236608  [19200/60000]\n",
      "loss: 2.080673  [25600/60000]\n",
      "loss: 2.126344  [32000/60000]\n",
      "loss: 2.158576  [38400/60000]\n",
      "loss: 2.100853  [44800/60000]\n",
      "loss: 2.135113  [51200/60000]\n",
      "loss: 2.179261  [57600/60000]\n",
      "Test Error: \n",
      " Accuracy: 29.6%, Avg loss: 0.033303 \n",
      "\n",
      "Epoch 4\n",
      "-------------------------------\n",
      "loss: 2.056594  [    0/60000]\n",
      "loss: 2.040911  [ 6400/60000]\n",
      "loss: 2.032829  [12800/60000]\n",
      "loss: 2.190274  [19200/60000]\n",
      "loss: 1.949542  [25600/60000]\n",
      "loss: 2.025663  [32000/60000]\n",
      "loss: 2.083981  [38400/60000]\n",
      "loss: 2.000447  [44800/60000]\n",
      "loss: 2.053586  [51200/60000]\n",
      "loss: 2.132851  [57600/60000]\n",
      "Test Error: \n",
      " Accuracy: 33.4%, Avg loss: 0.032098 \n",
      "\n",
      "Epoch 5\n",
      "-------------------------------\n",
      "loss: 1.947612  [    0/60000]\n",
      "loss: 1.937022  [ 6400/60000]\n",
      "loss: 1.929212  [12800/60000]\n",
      "loss: 2.147931  [19200/60000]\n",
      "loss: 1.848203  [25600/60000]\n",
      "loss: 1.947737  [32000/60000]\n",
      "loss: 2.023177  [38400/60000]\n",
      "loss: 1.921669  [44800/60000]\n",
      "loss: 1.978783  [51200/60000]\n",
      "loss: 2.095632  [57600/60000]\n",
      "Test Error: \n",
      " Accuracy: 36.0%, Avg loss: 0.031089 \n",
      "\n",
      "Epoch 6\n",
      "-------------------------------\n",
      "loss: 1.852156  [    0/60000]\n",
      "loss: 1.851672  [ 6400/60000]\n",
      "loss: 1.841523  [12800/60000]\n",
      "loss: 2.112025  [19200/60000]\n",
      "loss: 1.774661  [25600/60000]\n",
      "loss: 1.886343  [32000/60000]\n",
      "loss: 1.971893  [38400/60000]\n",
      "loss: 1.857906  [44800/60000]\n",
      "loss: 1.912948  [51200/60000]\n",
      "loss: 2.065079  [57600/60000]\n",
      "Test Error: \n",
      " Accuracy: 37.0%, Avg loss: 0.030232 \n",
      "\n",
      "Epoch 7\n",
      "-------------------------------\n",
      "loss: 1.769252  [    0/60000]\n",
      "loss: 1.778886  [ 6400/60000]\n",
      "loss: 1.766202  [12800/60000]\n",
      "loss: 2.081998  [19200/60000]\n",
      "loss: 1.719060  [25600/60000]\n",
      "loss: 1.836962  [32000/60000]\n",
      "loss: 1.930837  [38400/60000]\n",
      "loss: 1.807832  [44800/60000]\n",
      "loss: 1.859448  [51200/60000]\n",
      "loss: 2.038112  [57600/60000]\n",
      "Test Error: \n",
      " Accuracy: 37.7%, Avg loss: 0.029519 \n",
      "\n",
      "Epoch 8\n",
      "-------------------------------\n",
      "loss: 1.700434  [    0/60000]\n",
      "loss: 1.717218  [ 6400/60000]\n",
      "loss: 1.703458  [12800/60000]\n",
      "loss: 2.057276  [19200/60000]\n",
      "loss: 1.677288  [25600/60000]\n",
      "loss: 1.798786  [32000/60000]\n",
      "loss: 1.899329  [38400/60000]\n",
      "loss: 1.768931  [44800/60000]\n",
      "loss: 1.817951  [51200/60000]\n",
      "loss: 2.016275  [57600/60000]\n",
      "Test Error: \n",
      " Accuracy: 38.2%, Avg loss: 0.028938 \n",
      "\n",
      "Epoch 9\n",
      "-------------------------------\n",
      "loss: 1.646705  [    0/60000]\n",
      "loss: 1.665453  [ 6400/60000]\n",
      "loss: 1.653553  [12800/60000]\n",
      "loss: 2.037145  [19200/60000]\n",
      "loss: 1.646245  [25600/60000]\n",
      "loss: 1.769623  [32000/60000]\n",
      "loss: 1.875132  [38400/60000]\n",
      "loss: 1.739424  [44800/60000]\n",
      "loss: 1.786205  [51200/60000]\n",
      "loss: 1.997710  [57600/60000]\n",
      "Test Error: \n",
      " Accuracy: 38.7%, Avg loss: 0.028466 \n",
      "\n",
      "Epoch 10\n",
      "-------------------------------\n",
      "loss: 1.604607  [    0/60000]\n",
      "loss: 1.622906  [ 6400/60000]\n",
      "loss: 1.612282  [12800/60000]\n",
      "loss: 2.017921  [19200/60000]\n",
      "loss: 1.622630  [25600/60000]\n",
      "loss: 1.746194  [32000/60000]\n",
      "loss: 1.855357  [38400/60000]\n",
      "loss: 1.715750  [44800/60000]\n",
      "loss: 1.759785  [51200/60000]\n",
      "loss: 1.981062  [57600/60000]\n",
      "Test Error: \n",
      " Accuracy: 39.1%, Avg loss: 0.028065 \n",
      "\n",
      "Done!\n"
     ]
    }
   ],
   "source": [
    "loss_fn = nn.CrossEntropyLoss()\n",
    "optimizer = torch.optim.SGD(model.parameters(), lr=learning_rate)\n",
    "\n",
    "epochs = 10\n",
    "for t in range(epochs):\n",
    "    print(f\"Epoch {t+1}\\n-------------------------------\")\n",
    "    train_loop(train_dataloader, model, loss_fn, optimizer)\n",
    "    test_loop(test_dataloader, model, loss_fn)\n",
    "print(\"Done!\")"
   ]
  }
 ]
}